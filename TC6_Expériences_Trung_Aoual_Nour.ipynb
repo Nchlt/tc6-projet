{
 "cells": [
  {
   "cell_type": "markdown",
   "metadata": {},
   "source": [
    "                           "
   ]
  },
  {
   "cell_type": "markdown",
   "metadata": {},
   "source": [
    "# <center> Projet TC6: Criteo Display Advertising Challenge </center>\n",
    "## <center> Expériences </center>\n",
    "  \n",
    "<center>Trung VUTHANH,   Malik KAZI,    Nour NOUREDINE</center>\n",
    "\n",
    "\n",
    "Ce second notebook contient nos premières expérimentation lors de la prise en main du projet. Voir le notebook Rapport pour le résumé."
   ]
  },
  {
   "cell_type": "code",
   "execution_count": 1,
   "metadata": {},
   "outputs": [],
   "source": [
    "import findspark\n",
    "findspark.init()\n",
    "import pyspark\n",
    "import re"
   ]
  },
  {
   "cell_type": "code",
   "execution_count": 2,
   "metadata": {
    "collapsed": true
   },
   "outputs": [],
   "source": [
    "from pyspark.context import SparkContext\n",
    "from pyspark.sql.session import SparkSession\n",
    "from pyspark.ml import Pipeline\n",
    "from pyspark.ml.classification import LogisticRegression\n",
    "from pyspark.ml.feature import HashingTF, Tokenizer\n",
    "from pyspark.sql import Row\n",
    "from pyspark.sql.functions import udf\n",
    "from pyspark.sql.functions import desc\n",
    "from pyspark.sql.functions import rand\n",
    "from pyspark.sql.functions import avg\n",
    "from pyspark.sql.types import *"
   ]
  },
  {
   "cell_type": "code",
   "execution_count": 3,
   "metadata": {
    "collapsed": true
   },
   "outputs": [],
   "source": [
    "sc = SparkContext('local')"
   ]
  },
  {
   "cell_type": "code",
   "execution_count": 4,
   "metadata": {},
   "outputs": [
    {
     "data": {
      "text/plain": [
       "'2.4.0'"
      ]
     },
     "execution_count": 4,
     "metadata": {},
     "output_type": "execute_result"
    }
   ],
   "source": [
    "sc.version"
   ]
  },
  {
   "cell_type": "markdown",
   "metadata": {},
   "source": [
    "# I. Données et pre-traitement de données"
   ]
  },
  {
   "cell_type": "markdown",
   "metadata": {},
   "source": [
    "Les données se trouve à http://labs.criteo.com/2014/02/download-kaggle-display-advertising-challenge-dataset/?fbclid=IwAR0y5NGoecgyTheFdqT6vBjQVVIz47FCQD48aeOIfyOy-adcZcDj8iRgLJU . Description de données:\n",
    "\n",
    "- train.txt : L'ensemble d'entraînement consiste en une partie du trafic de Criteo sur une période de 7 jours. Chaque ligne correspond à une annonce d'affichage desservie par Criteo. Les exemples positifs (cliqués) et négatifs (sans clic) ont tous deux été sous-échantillonnés à des taux différents afin de réduire la taille du DataSet. Les exemples sont classés chronologiquement.\n",
    "\n",
    "- test.txt: Le jeu de test est calculé de la même manière que l'ensemble de train, mais pour les événements le jour suivant de l'entraînement.\n"
   ]
  },
  {
   "cell_type": "markdown",
   "metadata": {},
   "source": [
    "A cause de la limite de ressources et matériels, nous ne pouvons que prendre une petite partie de données pour traitement"
   ]
  },
  {
   "cell_type": "code",
   "execution_count": null,
   "metadata": {
    "collapsed": true
   },
   "outputs": [],
   "source": [
    "# Indiquer le chemin vers le fichier train.txt dans la variable path ci \n",
    "# training_file_path ci dessous :\n",
    "training_file_path = '../criteo/dac/train.txt'\n",
    "new_file_path = '../criteo/dac/train_partition.txt'"
   ]
  },
  {
   "cell_type": "code",
   "execution_count": null,
   "metadata": {
    "collapsed": true
   },
   "outputs": [],
   "source": [
    "# Création d'échantillons de données, décommenter une des ligne et relancer la cellule pour choisir le nombre\n",
    "# d'exemples à prendre en compte\n",
    "!head -200000 $training_file_path > $new_file_path"
   ]
  },
  {
   "cell_type": "code",
   "execution_count": 5,
   "metadata": {},
   "outputs": [],
   "source": [
    "# chargement de données depuis local, n'oublie pas de changer le nom de votre répertoire\n",
    "\n",
    "spark = SparkSession(sc)\n",
    "df1 = spark.read.load(new_file_path,format=\"csv\",sep=\"\\t\", inferSchema=\"true\", header=\"true\")"
   ]
  },
  {
   "cell_type": "markdown",
   "metadata": {},
   "source": [
    "- le train comprends de 50 colonnes: 49 colonnes de features et 1 colonnes de labels. \n",
    "- Chaque exemple a 49 features dont 13 premiers (marqué i1 à i13) sont de type numéric (integer) et 26 restants sont de type texte (string)"
   ]
  },
  {
   "cell_type": "code",
   "execution_count": 6,
   "metadata": {},
   "outputs": [],
   "source": [
    "# rajout de headers au tableau csv de données\n",
    "\n",
    "new_headers=['label','i1','i2','i3','i4','i5','i6','i7','i8','i9','i10','i11','i12','i13','c1','c2','c3','c4','c5','c6',\\\n",
    "'c7','c8','c9','c10','c11','c12','c13','c14','c15','c16','c17','c18','c19','c20','c21','c22','c23','c24','c25','c26']\n",
    "df1=df1.toDF(*new_headers)"
   ]
  },
  {
   "cell_type": "markdown",
   "metadata": {},
   "source": [
    "#### remplir tous les valeurs null de données\n",
    "- pour les features numéric, remplacer valeurs null par la moyenne de cette colonne\n",
    "- pour les features catégorique, remplacer valeurs null par une valeur aléatoire dans cette colonne (sauf null évidemment)"
   ]
  },
  {
   "cell_type": "code",
   "execution_count": 7,
   "metadata": {},
   "outputs": [
    {
     "name": "stdout",
     "output_type": "stream",
     "text": [
      "+-----+---+---+---+---+-----+---+---+---+---+---+---+---+---+--------+--------+--------+--------+--------+--------+--------+--------+--------+--------+--------+--------+--------+--------+--------+--------+--------+--------+--------+--------+--------+--------+--------+--------+--------+--------+\n",
      "|label| i1| i2| i3| i4|   i5| i6| i7| i8| i9|i10|i11|i12|i13|      c1|      c2|      c3|      c4|      c5|      c6|      c7|      c8|      c9|     c10|     c11|     c12|     c13|     c14|     c15|     c16|     c17|     c18|     c19|     c20|     c21|     c22|     c23|     c24|     c25|     c26|\n",
      "+-----+---+---+---+---+-----+---+---+---+---+---+---+---+---+--------+--------+--------+--------+--------+--------+--------+--------+--------+--------+--------+--------+--------+--------+--------+--------+--------+--------+--------+--------+--------+--------+--------+--------+--------+--------+\n",
      "|    0|  2|  0| 44|  1|  102|  8|  2|  2|  4|  1|  1|  0|  4|68fd1e64|f0cf0024|6f67f7e5|41274cd7|25c83c98|fe6b92e5|922afcc0|0b153874|a73ee510|2b53e5fb|4f1b46f3|623049e6|d7020589|b28479f6|e6c5b5cd|c92f3b61|07c540c4|b04e4670|21ddcdc9|5840adea|60f6221e|    null|3a171ecb|43f13e8b|e8b83407|731c3655|\n",
      "|    0|  2|  0|  1| 14|  767| 89|  4|  2|245|  1|  3|  3| 45|287e684f|0a519c5c|02cf9876|c18be181|25c83c98|7e0ccccf|c78204a1|0b153874|a73ee510|3b08e48b|5f5e6091|8fe001f4|aa655a2f|07d13a8f|6dc710ed|36103458|8efede7f|3412118d|    null|    null|e587c466|ad3062eb|3a171ecb|3b183c5c|    null|    null|\n",
      "|    0|  3|893| 27|  7| 4392|123|  0|  0|  0|  0|  0|  0|  8|68fd1e64|2c16a946|a9a87e68|2e17d6f6|25c83c98|fe6b92e5|2e8a689b|0b153874|a73ee510|efea433b|e51ddf94|a30567ca|3516f6e6|07d13a8f|18231224|52b8680f|1e88c74f|74ef3502|    null|    null|6b3a5ca6|    null|3a171ecb|9117a34a|    null|    null|\n",
      "|    0|  3| -1| 27|  0|    2|  0|  3|  0|  0|  1|  1|  0|  0|8cf07265|ae46a29d|c81688bb|f922efad|25c83c98|13718bbd|ad9fa255|0b153874|a73ee510|5282c137|e5d8af57|66a76a26|f06c53ac|1adce6ef|8ff4b403|01adbab4|1e88c74f|26b3c7a7|    null|    null|21c9516a|    null|32c7478e|b34f3128|    null|    null|\n",
      "|    0|  3| -1| 27|  7|12824|123|  0|  0|  6|  0|  0|  0|  8|05db9164|6c9c9cf3|2730ec9c|5400db8b|43b19349|6f6d9be8|53b5f978|0b153874|a73ee510|3b08e48b|91e8fc27|be45b877|9ff13f22|07d13a8f|06969a20|9bc7fff5|776ce399|92555263|    null|    null|242bb710|8ec974f4|be7c41b4|72c78f11|    null|    null|\n",
      "+-----+---+---+---+---+-----+---+---+---+---+---+---+---+---+--------+--------+--------+--------+--------+--------+--------+--------+--------+--------+--------+--------+--------+--------+--------+--------+--------+--------+--------+--------+--------+--------+--------+--------+--------+--------+\n",
      "only showing top 5 rows\n",
      "\n"
     ]
    }
   ],
   "source": [
    "# remplacement valeurs null par la moyenne de cette colonne\n",
    "\n",
    "def fill_with_mean(this_df, include=set()):\n",
    "\n",
    "    stats = this_df.agg(*(avg(c).alias(c) for c in this_df.columns if c in include))\n",
    "    return this_df.na.fill(stats.first().asDict())\n",
    "\n",
    "\n",
    "\n",
    "df_fill_i = fill_with_mean(df1, ['i1','i2','i3','i4','i5','i6','i7','i8','i9','i10','i11','i12','i13'])\n",
    "df_fill_i.show(5)"
   ]
  },
  {
   "cell_type": "code",
   "execution_count": 8,
   "metadata": {},
   "outputs": [
    {
     "name": "stdout",
     "output_type": "stream",
     "text": [
      "traitement column c1\n",
      "traitement column c2\n",
      "traitement column c3\n",
      "traitement column c4\n",
      "traitement column c5\n",
      "traitement column c6\n",
      "traitement column c7\n",
      "traitement column c8\n",
      "traitement column c9\n",
      "traitement column c10\n",
      "traitement column c11\n",
      "traitement column c12\n",
      "traitement column c13\n",
      "traitement column c14\n",
      "traitement column c15\n",
      "traitement column c16\n",
      "traitement column c17\n",
      "traitement column c18\n",
      "traitement column c19\n",
      "traitement column c20\n",
      "traitement column c21\n",
      "traitement column c22\n",
      "traitement column c23\n",
      "traitement column c24\n",
      "traitement column c25\n",
      "traitement column c26\n",
      "+-----+---+---+---+---+-----+---+---+---+---+---+---+---+---+--------+--------+--------+--------+--------+--------+--------+--------+--------+--------+--------+--------+--------+--------+--------+--------+--------+--------+--------+--------+--------+--------+--------+--------+--------+--------+\n",
      "|label| i1| i2| i3| i4|   i5| i6| i7| i8| i9|i10|i11|i12|i13|      c1|      c2|      c3|      c4|      c5|      c6|      c7|      c8|      c9|     c10|     c11|     c12|     c13|     c14|     c15|     c16|     c17|     c18|     c19|     c20|     c21|     c22|     c23|     c24|     c25|     c26|\n",
      "+-----+---+---+---+---+-----+---+---+---+---+---+---+---+---+--------+--------+--------+--------+--------+--------+--------+--------+--------+--------+--------+--------+--------+--------+--------+--------+--------+--------+--------+--------+--------+--------+--------+--------+--------+--------+\n",
      "|    0|  2|  0| 44|  1|  102|  8|  2|  2|  4|  1|  1|  0|  4|68fd1e64|f0cf0024|6f67f7e5|41274cd7|25c83c98|fe6b92e5|922afcc0|0b153874|a73ee510|2b53e5fb|4f1b46f3|623049e6|d7020589|b28479f6|e6c5b5cd|c92f3b61|07c540c4|b04e4670|21ddcdc9|5840adea|60f6221e|ad3062eb|3a171ecb|43f13e8b|e8b83407|731c3655|\n",
      "|    0|  2|  0|  1| 14|  767| 89|  4|  2|245|  1|  3|  3| 45|287e684f|0a519c5c|02cf9876|c18be181|25c83c98|7e0ccccf|c78204a1|0b153874|a73ee510|3b08e48b|5f5e6091|8fe001f4|aa655a2f|07d13a8f|6dc710ed|36103458|8efede7f|3412118d|cf99e5de|b1252a9d|e587c466|ad3062eb|3a171ecb|3b183c5c|445bbe3b|f3737bd0|\n",
      "|    0|  3|893| 27|  7| 4392|123|  0|  0|  0|  0|  0|  0|  8|68fd1e64|2c16a946|a9a87e68|2e17d6f6|25c83c98|fe6b92e5|2e8a689b|0b153874|a73ee510|efea433b|e51ddf94|a30567ca|3516f6e6|07d13a8f|18231224|52b8680f|1e88c74f|74ef3502|cf99e5de|b1252a9d|6b3a5ca6|ad3062eb|3a171ecb|9117a34a|445bbe3b|f3737bd0|\n",
      "|    0|  3| -1| 27|  0|    2|  0|  3|  0|  0|  1|  1|  0|  0|8cf07265|ae46a29d|c81688bb|f922efad|25c83c98|13718bbd|ad9fa255|0b153874|a73ee510|5282c137|e5d8af57|66a76a26|f06c53ac|1adce6ef|8ff4b403|01adbab4|1e88c74f|26b3c7a7|cf99e5de|b1252a9d|21c9516a|ad3062eb|32c7478e|b34f3128|445bbe3b|f3737bd0|\n",
      "|    0|  3| -1| 27|  7|12824|123|  0|  0|  6|  0|  0|  0|  8|05db9164|6c9c9cf3|2730ec9c|5400db8b|43b19349|6f6d9be8|53b5f978|0b153874|a73ee510|3b08e48b|91e8fc27|be45b877|9ff13f22|07d13a8f|06969a20|9bc7fff5|776ce399|92555263|cf99e5de|b1252a9d|242bb710|8ec974f4|be7c41b4|72c78f11|445bbe3b|f3737bd0|\n",
      "+-----+---+---+---+---+-----+---+---+---+---+---+---+---+---+--------+--------+--------+--------+--------+--------+--------+--------+--------+--------+--------+--------+--------+--------+--------+--------+--------+--------+--------+--------+--------+--------+--------+--------+--------+--------+\n",
      "only showing top 5 rows\n",
      "\n"
     ]
    }
   ],
   "source": [
    "# remplacer valeurs null par une valeur aléatoire non-null dans cette colonne\n",
    "\n",
    "cate_columns={}\n",
    "#from random import randint\n",
    "#print(randint(1, 9))\n",
    "c_columns=['c1','c2','c3','c4','c5','c6',\\\n",
    "'c7','c8','c9','c10','c11','c12','c13','c14','c15','c16','c17','c18','c19','c20','c21','c22','c23','c24','c25','c26']\n",
    "for column in c_columns:\n",
    "    v_is_null = True\n",
    "    print(\"traitement column\",column)\n",
    "    while v_is_null:\n",
    "        v = df_fill_i.select(column).orderBy(rand()).limit(1).collect()[0][column]\n",
    "        if v:\n",
    "            v_is_null = False\n",
    "    #grouped = df_fill_i.groupBy(column).count().sort(desc(\"count\"))\n",
    "    cate_columns[column] = v\n",
    "df_full = df_fill_i.fillna(cate_columns)\n",
    "df_full.show(5)"
   ]
  },
  {
   "cell_type": "code",
   "execution_count": 43,
   "metadata": {},
   "outputs": [
    {
     "data": {
      "image/png": "[encoded data removed]",
      "text/plain": [
       "<Figure size 432x288 with 1 Axes>"
      ]
     },
     "metadata": {},
     "output_type": "display_data"
    }
   ],
   "source": [
    "import matplotlib.pyplot as plt\n",
    "from matplotlib.pyplot import pie, axis, show\n",
    "\n",
    "\n",
    "describe = df_full.describe('i3')\n",
    "nb_exemples = describe.filter(describe['summary']=='count').collect()[0]['i3']\n",
    "ingredients = ['non-clic', 'clic']\n",
    "\n",
    "label_df = df_full.toPandas()\n",
    "label_series = label_df['label']\n",
    "s = label_series.value_counts()\n",
    "#s.plot.pie()\n",
    "fig, ax = plt.subplots( nrows=1, ncols=1 )\n",
    "wedges, texts = ax.pie(s, labels=s.index)\n",
    "ax.legend(wedges, ingredients,\n",
    "          title=\"rate of data by label\",\n",
    "          loc=\"upper right\", bbox_to_anchor=(0.8, 0, 0.5, 1))\n",
    "\n",
    "ax.set_title(\"Total number of examples: \"+nb_exemples)\n",
    "plt.show()\n",
    "#print(data1)"
   ]
  },
  {
   "cell_type": "markdown",
   "metadata": {},
   "source": [
    "#### Convertir features catégorielles en numéric pour entrainer les modeles"
   ]
  },
  {
   "cell_type": "code",
   "execution_count": 9,
   "metadata": {},
   "outputs": [
    {
     "name": "stdout",
     "output_type": "stream",
     "text": [
      "+-----+---+---+---+---+-----+---+---+---+----+---+---+---+---+--------+--------+--------+--------+--------+--------+--------+--------+--------+--------+--------+--------+--------+--------+--------+--------+--------+--------+--------+--------+--------+--------+--------+--------+--------+--------+--------+--------+--------+--------+--------+--------+--------+--------+--------+---------+---------+---------+---------+---------+---------+---------+---------+---------+---------+---------+---------+---------+---------+---------+---------+---------+\n",
      "|label| i1| i2| i3| i4|   i5| i6| i7| i8|  i9|i10|i11|i12|i13|      c1|      c2|      c3|      c4|      c5|      c6|      c7|      c8|      c9|     c10|     c11|     c12|     c13|     c14|     c15|     c16|     c17|     c18|     c19|     c20|     c21|     c22|     c23|     c24|     c25|     c26|c1_index|c2_index|c3_index|c4_index|c5_index|c6_index|c7_index|c8_index|c9_index|c10_index|c11_index|c12_index|c13_index|c14_index|c15_index|c16_index|c17_index|c18_index|c19_index|c20_index|c21_index|c22_index|c23_index|c24_index|c25_index|c26_index|\n",
      "+-----+---+---+---+---+-----+---+---+---+----+---+---+---+---+--------+--------+--------+--------+--------+--------+--------+--------+--------+--------+--------+--------+--------+--------+--------+--------+--------+--------+--------+--------+--------+--------+--------+--------+--------+--------+--------+--------+--------+--------+--------+--------+--------+--------+--------+---------+---------+---------+---------+---------+---------+---------+---------+---------+---------+---------+---------+---------+---------+---------+---------+---------+\n",
      "|    0|  2|  0| 44|  1|  102|  8|  2|  2|   4|  1|  1|  0|  4|68fd1e64|f0cf0024|6f67f7e5|41274cd7|25c83c98|fe6b92e5|922afcc0|0b153874|a73ee510|2b53e5fb|4f1b46f3|623049e6|d7020589|b28479f6|e6c5b5cd|c92f3b61|07c540c4|b04e4670|21ddcdc9|5840adea|60f6221e|ad3062eb|3a171ecb|43f13e8b|e8b83407|731c3655|     1.0|    17.0|    20.0|    26.0|     0.0|     2.0|  1772.0|     0.0|     0.0|    755.0|    697.0|     21.0|    662.0|      0.0|     62.0|     27.0|      1.0|     28.0|      1.0|      2.0|     24.0|      0.0|      1.0|     34.0|      2.0|     15.0|\n",
      "|    0|  2|  0|  1| 14|  767| 89|  4|  2| 245|  1|  3|  3| 45|287e684f|0a519c5c|02cf9876|c18be181|25c83c98|7e0ccccf|c78204a1|0b153874|a73ee510|3b08e48b|5f5e6091|8fe001f4|aa655a2f|07d13a8f|6dc710ed|36103458|8efede7f|3412118d|cf99e5de|b1252a9d|e587c466|ad3062eb|3a171ecb|3b183c5c|445bbe3b|f3737bd0|    24.0|    44.0|     2.0|     1.0|     0.0|     0.0|   615.0|     0.0|     0.0|      0.0|    715.0|      3.0|    602.0|      1.0|    854.0|      3.0|      7.0|    390.0|      0.0|      0.0|      3.0|      0.0|      1.0|      2.0|      0.0|      0.0|\n",
      "|    0|  3|893| 27|  7| 4392|123|  0|  0|   0|  0|  0|  0|  8|68fd1e64|2c16a946|a9a87e68|2e17d6f6|25c83c98|fe6b92e5|2e8a689b|0b153874|a73ee510|efea433b|e51ddf94|a30567ca|3516f6e6|07d13a8f|18231224|52b8680f|1e88c74f|74ef3502|cf99e5de|b1252a9d|6b3a5ca6|ad3062eb|3a171ecb|9117a34a|445bbe3b|f3737bd0|     1.0|     9.0| 22363.0|   204.0|     0.0|     2.0|    35.0|     0.0|     0.0|      1.0|      1.0|  24786.0|      1.0|      1.0|     20.0|  29383.0|      6.0|     24.0|      0.0|      0.0|  35124.0|      0.0|      1.0|      5.0|      0.0|      0.0|\n",
      "|    0|  3| -1| 27|  0|    2|  0|  3|  0|   0|  1|  1|  0|  0|8cf07265|ae46a29d|c81688bb|f922efad|25c83c98|13718bbd|ad9fa255|0b153874|a73ee510|5282c137|e5d8af57|66a76a26|f06c53ac|1adce6ef|8ff4b403|01adbab4|1e88c74f|26b3c7a7|cf99e5de|b1252a9d|21c9516a|ad3062eb|32c7478e|b34f3128|445bbe3b|f3737bd0|     3.0|    23.0| 95196.0|     5.0|     0.0|     4.0|  1035.0|     0.0|     0.0|    918.0|    598.0|     23.0|    583.0|      2.0|    377.0|     11.0|      6.0|    317.0|      0.0|      0.0|     11.0|      0.0|      0.0|      1.0|      0.0|      0.0|\n",
      "|    0|  3| -1| 27|  7|12824|123|  0|  0|   6|  0|  0|  0|  8|05db9164|6c9c9cf3|2730ec9c|5400db8b|43b19349|6f6d9be8|53b5f978|0b153874|a73ee510|3b08e48b|91e8fc27|be45b877|9ff13f22|07d13a8f|06969a20|9bc7fff5|776ce399|92555263|cf99e5de|b1252a9d|242bb710|8ec974f4|be7c41b4|72c78f11|445bbe3b|f3737bd0|     0.0|   125.0|   102.0|   129.0|     2.0|     3.0|   724.0|     0.0|     0.0|      0.0|    478.0|    106.0|    472.0|      1.0|    600.0|    116.0|      4.0|    169.0|      0.0|      0.0|    111.0|      3.0|      5.0|     98.0|      0.0|      0.0|\n",
      "|    0|  3|  1|  2|  7| 3168|123|  0|  1|   2|  0|  0|  0|  8|439a44a4|ad4527a2|c02372d0|d34ebbaa|43b19349|fe6b92e5|4bc6ffea|0b153874|a73ee510|3b08e48b|a4609aab|14d63538|772a00d7|07d13a8f|f9d1382e|b00d3dc9|776ce399|cdfa8259|cf99e5de|b1252a9d|20062612|ad3062eb|93bad2c0|1b256e61|445bbe3b|f3737bd0|    16.0|    72.0|    68.0|    88.0|     2.0|     2.0|  8835.0|     0.0|     0.0|      0.0|    750.0|     74.0|    713.0|      1.0|    201.0|     81.0|      4.0|    106.0|      0.0|      0.0|     77.0|      0.0|      8.0|     38.0|      0.0|      0.0|\n",
      "|    1|  1|  4|  2|  0|    0|  0|  1|  0|   0|  1|  1|  0|  0|68fd1e64|2c16a946|503b9dbc|e4dbea90|f3474129|13718bbd|38eb9cf4|1f89b562|a73ee510|547c0ffe|bc8c9f21|60ab2f07|46f42a63|07d13a8f|18231224|e6b6bdc7|e5ba7672|74ef3502|cf99e5de|b1252a9d|5316a17f|ad3062eb|32c7478e|9117a34a|445bbe3b|f3737bd0|     1.0|     9.0| 48909.0|    76.0|     9.0|     4.0|     3.0|     2.0|     0.0|     17.0|    214.0|  41770.0|      2.0|      1.0|     20.0| 101562.0|      0.0|     24.0|      0.0|      0.0| 123413.0|      0.0|      0.0|      5.0|      0.0|      0.0|\n",
      "|    0|  3| 44|  4|  8|19010|249| 28| 31| 141|  0|  1|  0|  8|05db9164|d833535f|d032c263|c18be181|25c83c98|7e0ccccf|d5b6acf2|0b153874|a73ee510|2acdcf4e|086ac2d2|dfbb09fb|41a6ae00|b28479f6|e2502ec9|84898b2a|e5ba7672|42a2edb9|cf99e5de|b1252a9d|0014c32a|ad3062eb|32c7478e|3b183c5c|445bbe3b|f3737bd0|     0.0|    14.0|     1.0|     1.0|     0.0|     0.0|  1119.0|     0.0|     0.0|   5056.0|    839.0|      2.0|    590.0|      0.0|    161.0|      2.0|      0.0|    104.0|      0.0|      0.0|      2.0|      0.0|      0.0|      2.0|      0.0|      0.0|\n",
      "|    0|  3| 35| 27|  1|33737| 21|  1|  2|   3|  0|  1|  0|  1|05db9164|510b40a5|d03e7c24|eb1fd928|25c83c98|7e0ccccf|52283d1c|0b153874|a73ee510|015ac893|e51ddf94|951fe4a9|3516f6e6|07d13a8f|2ae4121c|8ec71479|d4bb7bd8|70d0f5f9|cf99e5de|b1252a9d|0e63fca0|ad3062eb|32c7478e|0e8fe315|445bbe3b|f3737bd0|     0.0|   123.0|    69.0|    89.0|     0.0|     0.0|    40.0|     0.0|     0.0|     15.0|      1.0|     76.0|      1.0|      1.0|    352.0|     83.0|      2.0|    294.0|      0.0|      0.0|     78.0|      0.0|      0.0|     87.0|      0.0|      0.0|\n",
      "|    0|  3|  2|632|  0|56770|123|  0|  5|  65|  0|  0|  0|  2|05db9164|0468d672|7ae80d0f|80d8555a|25c83c98|7e0ccccf|04277bf9|0b153874|7cc72ec2|3b08e48b|7e2c5c15|cfc86806|91a1b611|b28479f6|58251aab|146a70fd|776ce399|0b331314|21ddcdc9|5840adea|cbec39db|ad3062eb|3a171ecb|cedad179|ea9a246c|9a556cfc|     0.0|    19.0|   684.0|   389.0|     0.0|     0.0|   651.0|     0.0|     1.0|      0.0|     95.0|    335.0|    106.0|      0.0|   1356.0|    335.0|      4.0|    603.0|      1.0|      2.0|    315.0|      0.0|      1.0|    130.0|      4.0|     62.0|\n",
      "|    0|  0|  6|  6|  6|  421|109|  1|  7| 107|  0|  1|  0|  6|05db9164|9b5fd12f|da266c5e|f56b7dd5|4cf72387|7e0ccccf|111121f4|0b153874|a73ee510|3b08e48b|ac9c2e8f|026167d5|6e2d6a15|07d13a8f|796a1a2e|4b6488bc|d4bb7bd8|8aaa5b67|cf99e5de|b1252a9d|c7cf9eeb|ad3062eb|32c7478e|3fdb382b|445bbe3b|f3737bd0|     0.0|   292.0|     0.0|     0.0|     1.0|     0.0|  2114.0|     0.0|     0.0|      0.0|   1096.0|      0.0|   1011.0|      1.0|    867.0|      0.0|      2.0|    601.0|      0.0|      0.0|      0.0|      0.0|      0.0|      0.0|      0.0|      0.0|\n",
      "|    1|  0| -1| 27|  7| 1465|  0| 17|  0|   4|  0|  4|  0|  8|241546e0|38a947a1|fa673455|6a14f9b9|25c83c98|fe6b92e5|1c86e0eb|1f89b562|a73ee510|e7ba2569|755e4a50|208d9687|5978055e|07d13a8f|5182f694|f8b34416|e5ba7672|e5f8f18f|cf99e5de|b1252a9d|f3ddd519|ad3062eb|32c7478e|b34f3128|445bbe3b|f3737bd0|    12.0|     0.0|111311.0|     8.0|     0.0|     2.0|     8.0|     2.0|     0.0|    142.0|      6.0|  34502.0|     12.0|      1.0|   1050.0|      6.0|      0.0|     20.0|      0.0|      0.0|      6.0|      0.0|      0.0|      1.0|      0.0|      0.0|\n",
      "|    1|  3|  2| 11|  5|10262| 34|  2|  4|   5|  0|  1|  0|  5|be589b51|287130e0|cd7a7a22|fb7334df|25c83c98|7e0ccccf|6cdb3998|361384ce|a73ee510|3ff10fb2|5874c9c9|976cbd4c|740c210d|1adce6ef|310d155b|07eb8110|07c540c4|891589e7|18259a83|a458ea53|a0ab60ca|ad3062eb|32c7478e|a052b1ed|9b3e8820|8967c0d2|     4.0|     4.0|127566.0|  8531.0|     0.0|     0.0|   179.0|    15.0|     0.0|    279.0|     11.0| 111539.0|      8.0|      2.0|     13.0| 104951.0|      1.0|      2.0|    182.0|      1.0| 106467.0|      0.0|      0.0|    106.0|      5.0|   2146.0|\n",
      "|    0|  0| 51| 84|  4| 3633| 26|  1|  4|   8|  0|  1|  0|  4|5a9ed9b0|80e26c9b|97144401|5dbf0cc5|0942e0a7|13718bbd|9ce6136d|0b153874|a73ee510|2106e595|b5bb9d63|04f55317|ab04d8fe|1adce6ef|0ad47a49|2bd32e5c|3486227d|12195b22|21ddcdc9|b1252a9d|fa131867|ad3062eb|dbb486d7|8ecc176a|e8b83407|c43c3f58|     2.0|    12.0|151085.0|  1938.0|     5.0|     4.0|  4211.0|     0.0|     0.0|   3420.0|   1196.0|  29677.0|   1083.0|      2.0|   1717.0|   4371.0|      3.0|    464.0|      1.0|      0.0|  53997.0|      0.0|      7.0|    814.0|      2.0|    942.0|\n",
      "|    0|  3|  2|  1| 18|20255|123|  0|  1|1306|  0|  0|  0| 20|05db9164|bc6e3dc1|67799c69|d00d0f35|4cf72387|7e0ccccf|ca4fd8f8|64523cfa|a73ee510|3b08e48b|a0060bca|b9f28c33|22d23aac|5aebfb83|d702713a|0f655650|776ce399|3a2028fd|cf99e5de|b1252a9d|b426bc93|ad3062eb|3a171ecb|2e0a0035|445bbe3b|f3737bd0|     0.0|   240.0|   154.0|    94.0|     1.0|     0.0|   647.0|     7.0|     0.0|      0.0|    259.0|    157.0|    258.0|     22.0|   2860.0|    189.0|      4.0|    449.0|      0.0|      0.0|    169.0|      0.0|      1.0|     92.0|      0.0|      0.0|\n",
      "|    1|  1|987| 27|  2|  105|  2|  1|  2|   2|  1|  1|  0|  2|68fd1e64|38d50e09|da603082|431a5096|43b19349|7e0ccccf|3f35b640|0b153874|a73ee510|3b08e48b|3d5fb018|6aaab577|94172618|07d13a8f|ee569ce2|2f03ef40|d4bb7bd8|582152eb|21ddcdc9|b1252a9d|3b203ca1|ad3062eb|32c7478e|b21dc903|001f3601|aa5f0a15|     1.0|     5.0| 74136.0| 55088.0|     2.0|     0.0|  3067.0|     0.0|     0.0|      0.0|    928.0|  45353.0|    873.0|      1.0|     34.0| 101582.0|      2.0|      7.0|      1.0|      0.0|  84791.0|      0.0|      0.0|   4847.0|      1.0|      6.0|\n",
      "|    0|  0|  1| 27|  0|16597|557|  3|  5| 123|  0|  1|  0|  1|8cf07265|7cd19acc|77f2f2e5|d16679b9|4cf72387|fbad5c96|8fb24933|0b153874|a73ee510|0095a535|3617b5f5|9f32b866|428332cf|b28479f6|83ebd498|31ca40b6|e5ba7672|d0e5eb07|cf99e5de|b1252a9d|dfcfc3fa|ad3062eb|32c7478e|aee52b6f|445bbe3b|f3737bd0|     3.0|   143.0|     5.0|     3.0|     1.0|     1.0|  2720.0|     0.0|     0.0|   6721.0|    812.0|      6.0|    768.0|      0.0|   1433.0|      7.0|      0.0|    901.0|      0.0|      0.0|      7.0|      0.0|      0.0|      4.0|      0.0|      0.0|\n",
      "|    0|  0| 24|  4|  2| 2056| 12|  6| 10|  83|  0|  1|  0|  2|05db9164|f0cf0024|08b45d8b|cbb5af1b|384874ce|fbad5c96|81bb0302|37e4aa92|a73ee510|175d6c71|b7094596|1c547463|1f9d2c38|1adce6ef|55dc357b|0ca69655|e5ba7672|b04e4670|21ddcdc9|b1252a9d|f3caefdd|ad3062eb|32c7478e|4c8e5aef|ea9a246c|9593bba9|     0.0|    17.0| 27740.0| 57247.0|     3.0|     1.0|     6.0|     3.0|     0.0|     34.0|      5.0| 136525.0|     10.0|      2.0|     76.0|  40386.0|      0.0|     28.0|      1.0|      0.0|  79938.0|      0.0|      0.0|    603.0|      4.0|   4794.0|\n",
      "|    0|  7|102| 27|  3|  780| 15|  7| 15|  15|  1|  1|  0|  3|3c9d8785|b0660259|3a960356|15c92ddb|4cf72387|13718bbd|00c46cd1|0b153874|a73ee510|62cfc6bd|8cffe207|656e5413|ff5626de|ad1cc976|27b1230c|fa8d05aa|e5ba7672|5edd90de|cf99e5de|b1252a9d|e12ce348|ad3062eb|c3dc6cef|49045073|445bbe3b|f3737bd0|    26.0|   268.0|  3420.0|  4190.0|     1.0|     4.0|  2000.0|     0.0|     0.0|   2119.0|   1091.0|   3529.0|    800.0|      9.0|   4753.0|   3497.0|      0.0|   2105.0|      0.0|      0.0|   3328.0|      0.0|      9.0|   3058.0|      0.0|      0.0|\n",
      "|    1|  3| 47| 27|  0| 6399| 38| 19| 10| 143|  0| 10|  0|  6|1464facd|38a947a1|223b0e16|ca55061c|25c83c98|7e0ccccf|6933dec1|5b392875|a73ee510|3b08e48b|860c302b|156f99ef|30735474|1adce6ef|0e78291e|5fbf4a84|e5ba7672|1999bae9|cf99e5de|b1252a9d|deb9605d|ad3062eb|32c7478e|e448275f|445bbe3b|f3737bd0|    18.0|     0.0|    24.0|    32.0|     0.0|     0.0|  1293.0|     1.0|     0.0|      0.0|    929.0|     26.0|    874.0|      2.0|    272.0|     32.0|      0.0|     84.0|      0.0|      0.0|     28.0|      0.0|      0.0|     43.0|      0.0|      0.0|\n",
      "+-----+---+---+---+---+-----+---+---+---+----+---+---+---+---+--------+--------+--------+--------+--------+--------+--------+--------+--------+--------+--------+--------+--------+--------+--------+--------+--------+--------+--------+--------+--------+--------+--------+--------+--------+--------+--------+--------+--------+--------+--------+--------+--------+--------+--------+---------+---------+---------+---------+---------+---------+---------+---------+---------+---------+---------+---------+---------+---------+---------+---------+---------+\n",
      "only showing top 20 rows\n",
      "\n"
     ]
    }
   ],
   "source": [
    "#only Indexer\n",
    "from pyspark.ml.feature import StringIndexer\n",
    "from pyspark.ml.linalg import Vectors\n",
    "from pyspark.ml.feature import VectorAssembler\n",
    "from pyspark.ml import Pipeline\n",
    "from pyspark.ml.feature import OneHotEncoder\n",
    "\n",
    "#for column in c_columns:\n",
    "columns_in = ['c1','c2','c3','c4','c5','c6',\\\n",
    "'c7','c8','c9','c10','c11','c12','c13','c14','c15','c16','c17','c18','c19','c20','c21','c22','c23','c24','c25','c26']\n",
    "#columns_out = ['c1vec','c2vec','c3vec','c4vec','c5vec','c6vec','c7vec','c8vec','c9vec','c10vec','c11vec','c12vec',\\\n",
    "#'c13vec','c14vec','c15vec','c16vec','c17vec','c18vec','c19vec','c20vec','c21vec','c22vec','c23vec','c24vec','c25vec','c26vec']\n",
    " \n",
    "indexers = [StringIndexer(inputCol=column, outputCol=column+\"_index\").fit(df_full) for column in columns_in]\n",
    "    \n",
    "pipeline = Pipeline(stages=indexers)\n",
    "df_r = pipeline.fit(df_full).transform(df_full)\n",
    "df_r.show()"
   ]
  },
  {
   "cell_type": "markdown",
   "metadata": {},
   "source": [
    "#### compter les nombres de valeurs distinctes pour chaque feature"
   ]
  },
  {
   "cell_type": "code",
   "execution_count": 48,
   "metadata": {},
   "outputs": [
    {
     "name": "stdout",
     "output_type": "stream",
     "text": [
      "label: 2 distinct values\n",
      "i1: 224 distinct values\n",
      "i2: 3605 distinct values\n",
      "i3: 1478 distinct values\n",
      "i4: 177 distinct values\n",
      "i5: 52629 distinct values\n",
      "i6: 3188 distinct values\n",
      "i7: 1081 distinct values\n",
      "i8: 281 distinct values\n",
      "i9: 2683 distinct values\n",
      "i10: 9 distinct values\n",
      "i11: 114 distinct values\n",
      "i12: 115 distinct values\n",
      "i13: 370 distinct values\n",
      "c1: 984 distinct values\n",
      "c2: 525 distinct values\n",
      "c3: 159077 distinct values\n",
      "c4: 70119 distinct values\n",
      "c5: 223 distinct values\n",
      "c6: 13 distinct values\n",
      "c7: 9965 distinct values\n",
      "c8: 461 distinct values\n",
      "c9: 3 distinct values\n",
      "c10: 21972 distinct values\n",
      "c11: 4439 distinct values\n",
      "c12: 138448 distinct values\n",
      "c13: 3021 distinct values\n",
      "c14: 26 distinct values\n",
      "c15: 7642 distinct values\n",
      "c16: 110047 distinct values\n",
      "c17: 10 distinct values\n",
      "c18: 3439 distinct values\n",
      "c19: 1693 distinct values\n",
      "c20: 3 distinct values\n",
      "c21: 126096 distinct values\n",
      "c22: 13 distinct values\n",
      "c23: 15 distinct values\n",
      "c24: 27596 distinct values\n",
      "c25: 60 distinct values\n",
      "c26: 21048 distinct values\n"
     ]
    }
   ],
   "source": [
    "for colum in df_full.columns:\n",
    "    print(colum+\":\", df_full.select(colum).distinct().count(), 'distinct values')\n"
   ]
  },
  {
   "cell_type": "markdown",
   "metadata": {},
   "source": [
    "# II. Modèle Random Forest"
   ]
  },
  {
   "cell_type": "markdown",
   "metadata": {},
   "source": [
    "Enlève des colonnes categorielles qui restent encore après transformation"
   ]
  },
  {
   "cell_type": "code",
   "execution_count": 10,
   "metadata": {},
   "outputs": [
    {
     "name": "stdout",
     "output_type": "stream",
     "text": [
      "+-----+---+---+---+---+-----+---+---+---+---+---+---+---+---+--------+--------+--------+--------+--------+--------+--------+--------+--------+---------+---------+---------+---------+---------+---------+---------+---------+---------+---------+---------+---------+---------+---------+---------+---------+---------+\n",
      "|label| i1| i2| i3| i4|   i5| i6| i7| i8| i9|i10|i11|i12|i13|c1_index|c2_index|c3_index|c4_index|c5_index|c6_index|c7_index|c8_index|c9_index|c10_index|c11_index|c12_index|c13_index|c14_index|c15_index|c16_index|c17_index|c18_index|c19_index|c20_index|c21_index|c22_index|c23_index|c24_index|c25_index|c26_index|\n",
      "+-----+---+---+---+---+-----+---+---+---+---+---+---+---+---+--------+--------+--------+--------+--------+--------+--------+--------+--------+---------+---------+---------+---------+---------+---------+---------+---------+---------+---------+---------+---------+---------+---------+---------+---------+---------+\n",
      "|    0|  2|  0| 44|  1|  102|  8|  2|  2|  4|  1|  1|  0|  4|     1.0|    17.0|    20.0|    26.0|     0.0|     2.0|  1772.0|     0.0|     0.0|    755.0|    697.0|     21.0|    662.0|      0.0|     62.0|     27.0|      1.0|     28.0|      1.0|      2.0|     24.0|      0.0|      1.0|     34.0|      2.0|     15.0|\n",
      "|    0|  2|  0|  1| 14|  767| 89|  4|  2|245|  1|  3|  3| 45|    24.0|    44.0|     2.0|     1.0|     0.0|     0.0|   615.0|     0.0|     0.0|      0.0|    715.0|      3.0|    602.0|      1.0|    854.0|      3.0|      7.0|    390.0|      0.0|      0.0|      3.0|      0.0|      1.0|      2.0|      0.0|      0.0|\n",
      "|    0|  3|893| 27|  7| 4392|123|  0|  0|  0|  0|  0|  0|  8|     1.0|     9.0| 22363.0|   204.0|     0.0|     2.0|    35.0|     0.0|     0.0|      1.0|      1.0|  24786.0|      1.0|      1.0|     20.0|  29383.0|      6.0|     24.0|      0.0|      0.0|  35124.0|      0.0|      1.0|      5.0|      0.0|      0.0|\n",
      "|    0|  3| -1| 27|  0|    2|  0|  3|  0|  0|  1|  1|  0|  0|     3.0|    23.0| 95196.0|     5.0|     0.0|     4.0|  1035.0|     0.0|     0.0|    918.0|    598.0|     23.0|    583.0|      2.0|    377.0|     11.0|      6.0|    317.0|      0.0|      0.0|     11.0|      0.0|      0.0|      1.0|      0.0|      0.0|\n",
      "|    0|  3| -1| 27|  7|12824|123|  0|  0|  6|  0|  0|  0|  8|     0.0|   125.0|   102.0|   129.0|     2.0|     3.0|   724.0|     0.0|     0.0|      0.0|    478.0|    106.0|    472.0|      1.0|    600.0|    116.0|      4.0|    169.0|      0.0|      0.0|    111.0|      3.0|      5.0|     98.0|      0.0|      0.0|\n",
      "+-----+---+---+---+---+-----+---+---+---+---+---+---+---+---+--------+--------+--------+--------+--------+--------+--------+--------+--------+---------+---------+---------+---------+---------+---------+---------+---------+---------+---------+---------+---------+---------+---------+---------+---------+---------+\n",
      "only showing top 5 rows\n",
      "\n",
      "root\n",
      " |-- label: integer (nullable = true)\n",
      " |-- i1: integer (nullable = true)\n",
      " |-- i2: integer (nullable = true)\n",
      " |-- i3: integer (nullable = true)\n",
      " |-- i4: integer (nullable = true)\n",
      " |-- i5: integer (nullable = true)\n",
      " |-- i6: integer (nullable = true)\n",
      " |-- i7: integer (nullable = true)\n",
      " |-- i8: integer (nullable = true)\n",
      " |-- i9: integer (nullable = true)\n",
      " |-- i10: integer (nullable = true)\n",
      " |-- i11: integer (nullable = true)\n",
      " |-- i12: integer (nullable = true)\n",
      " |-- i13: integer (nullable = true)\n",
      " |-- c1_index: double (nullable = false)\n",
      " |-- c2_index: double (nullable = false)\n",
      " |-- c3_index: double (nullable = false)\n",
      " |-- c4_index: double (nullable = false)\n",
      " |-- c5_index: double (nullable = false)\n",
      " |-- c6_index: double (nullable = false)\n",
      " |-- c7_index: double (nullable = false)\n",
      " |-- c8_index: double (nullable = false)\n",
      " |-- c9_index: double (nullable = false)\n",
      " |-- c10_index: double (nullable = false)\n",
      " |-- c11_index: double (nullable = false)\n",
      " |-- c12_index: double (nullable = false)\n",
      " |-- c13_index: double (nullable = false)\n",
      " |-- c14_index: double (nullable = false)\n",
      " |-- c15_index: double (nullable = false)\n",
      " |-- c16_index: double (nullable = false)\n",
      " |-- c17_index: double (nullable = false)\n",
      " |-- c18_index: double (nullable = false)\n",
      " |-- c19_index: double (nullable = false)\n",
      " |-- c20_index: double (nullable = false)\n",
      " |-- c21_index: double (nullable = false)\n",
      " |-- c22_index: double (nullable = false)\n",
      " |-- c23_index: double (nullable = false)\n",
      " |-- c24_index: double (nullable = false)\n",
      " |-- c25_index: double (nullable = false)\n",
      " |-- c26_index: double (nullable = false)\n",
      "\n"
     ]
    }
   ],
   "source": [
    "#columns_to_drop = ['c3', 'c4', 'c10','c12','c16','c21','c24', 'c26']\n",
    "df_r=df_r.drop(*columns_in)\n",
    "    \n",
    "df_r.show(5)\n",
    "df_r.printSchema()"
   ]
  },
  {
   "cell_type": "markdown",
   "metadata": {},
   "source": [
    "#### A la limite de resources, il est très couteux au niveau de temps d'execution avec RandomForest pour les colonnes categorielle ayant trop de valeurs discretes. Donc, nous ne garderions que les colonnes qui a moins de 4000 valeurs pour entrainement."
   ]
  },
  {
   "cell_type": "code",
   "execution_count": 11,
   "metadata": {},
   "outputs": [
    {
     "name": "stdout",
     "output_type": "stream",
     "text": [
      "+-----+---+---+---+---+-----+---+---+---+---+---+---+---+---+--------+--------+--------+--------+--------+--------+---------+---------+---------+---------+---------+---------+---------+---------+---------+\n",
      "|label| i1| i2| i3| i4|   i5| i6| i7| i8| i9|i10|i11|i12|i13|c1_index|c2_index|c5_index|c6_index|c8_index|c9_index|c13_index|c14_index|c17_index|c18_index|c19_index|c20_index|c22_index|c23_index|c25_index|\n",
      "+-----+---+---+---+---+-----+---+---+---+---+---+---+---+---+--------+--------+--------+--------+--------+--------+---------+---------+---------+---------+---------+---------+---------+---------+---------+\n",
      "|    0|  2|  0| 44|  1|  102|  8|  2|  2|  4|  1|  1|  0|  4|     1.0|    17.0|     0.0|     2.0|     0.0|     0.0|    662.0|      0.0|      1.0|     28.0|      1.0|      2.0|      0.0|      1.0|      2.0|\n",
      "|    0|  2|  0|  1| 14|  767| 89|  4|  2|245|  1|  3|  3| 45|    24.0|    44.0|     0.0|     0.0|     0.0|     0.0|    602.0|      1.0|      7.0|    390.0|      0.0|      0.0|      0.0|      1.0|      0.0|\n",
      "|    0|  3|893| 27|  7| 4392|123|  0|  0|  0|  0|  0|  0|  8|     1.0|     9.0|     0.0|     2.0|     0.0|     0.0|      1.0|      1.0|      6.0|     24.0|      0.0|      0.0|      0.0|      1.0|      0.0|\n",
      "|    0|  3| -1| 27|  0|    2|  0|  3|  0|  0|  1|  1|  0|  0|     3.0|    23.0|     0.0|     4.0|     0.0|     0.0|    583.0|      2.0|      6.0|    317.0|      0.0|      0.0|      0.0|      0.0|      0.0|\n",
      "|    0|  3| -1| 27|  7|12824|123|  0|  0|  6|  0|  0|  0|  8|     0.0|   125.0|     2.0|     3.0|     0.0|     0.0|    472.0|      1.0|      4.0|    169.0|      0.0|      0.0|      3.0|      5.0|      0.0|\n",
      "+-----+---+---+---+---+-----+---+---+---+---+---+---+---+---+--------+--------+--------+--------+--------+--------+---------+---------+---------+---------+---------+---------+---------+---------+---------+\n",
      "only showing top 5 rows\n",
      "\n"
     ]
    }
   ],
   "source": [
    "oversized_columns = ['c3_index','c4_index','c10_index','c12_index','c16_index','c21_index',\\\n",
    "                     'c24_index','c26_index','c7_index','c11_index','c15_index']\n",
    "df_r1=df_r.drop(*oversized_columns)\n",
    "    \n",
    "df_r1.show(5)"
   ]
  },
  {
   "cell_type": "code",
   "execution_count": 12,
   "metadata": {
    "collapsed": true
   },
   "outputs": [],
   "source": [
    "cols_now = ['i1','i2','i3','i4','i5','i6','i7','i8','i9','i10','i11','i12','i13','c1_index','c2_index',\\\n",
    "    'c5_index','c6_index','c8_index','c9_index','c13_index',\\\n",
    "'c14_index','c17_index','c18_index','c19_index','c20_index','c22_index',\\\n",
    "    'c23_index','c25_index']"
   ]
  },
  {
   "cell_type": "code",
   "execution_count": 13,
   "metadata": {
    "collapsed": true
   },
   "outputs": [],
   "source": [
    "#cols_now = ['i1','i2','i3','i4','i5','i6','i7','i8','i9','i10','i11','i12','i13','c1_index','c2_index','c3_index',\\\n",
    "#    'c4_index','c5_index','c6_index','c7_index','c8_index','c9_index','c10_index','c11_index','c12_index','c13_index',\\\n",
    "# 'c14_index','c15_index','c16_index','c17_index','c18_index','c19_index','c20_index','c21_index','c22_index',\\\n",
    "#    'c23_index','c24_index','c25_index','c26_index']\n",
    "assembler_features = VectorAssembler(inputCols=cols_now, outputCol='features')\n",
    "labelIndexer = StringIndexer(inputCol='label', outputCol=\"labelIndex\")\n",
    "tmp = [assembler_features, labelIndexer]\n",
    "pipeline = Pipeline(stages=tmp)"
   ]
  },
  {
   "cell_type": "markdown",
   "metadata": {},
   "source": [
    "##### Diviser le jeux données en train et test"
   ]
  },
  {
   "cell_type": "code",
   "execution_count": 14,
   "metadata": {},
   "outputs": [],
   "source": [
    "allData = pipeline.fit(df_r1).transform(df_r1)\n",
    "#allData.cache()\n",
    "trainingData, testData = allData.randomSplit([0.75,0.25], seed=105) # need to ensure same split for each time\n",
    "#print(\"Distribution of Pos and Neg in trainingData is: \", trainingData.groupBy(\"label\").count().take(3))\n"
   ]
  },
  {
   "cell_type": "code",
   "execution_count": 15,
   "metadata": {},
   "outputs": [
    {
     "name": "stdout",
     "output_type": "stream",
     "text": [
      "root\n",
      " |-- label: integer (nullable = true)\n",
      " |-- i1: integer (nullable = true)\n",
      " |-- i2: integer (nullable = true)\n",
      " |-- i3: integer (nullable = true)\n",
      " |-- i4: integer (nullable = true)\n",
      " |-- i5: integer (nullable = true)\n",
      " |-- i6: integer (nullable = true)\n",
      " |-- i7: integer (nullable = true)\n",
      " |-- i8: integer (nullable = true)\n",
      " |-- i9: integer (nullable = true)\n",
      " |-- i10: integer (nullable = true)\n",
      " |-- i11: integer (nullable = true)\n",
      " |-- i12: integer (nullable = true)\n",
      " |-- i13: integer (nullable = true)\n",
      " |-- c1_index: double (nullable = false)\n",
      " |-- c2_index: double (nullable = false)\n",
      " |-- c5_index: double (nullable = false)\n",
      " |-- c6_index: double (nullable = false)\n",
      " |-- c8_index: double (nullable = false)\n",
      " |-- c9_index: double (nullable = false)\n",
      " |-- c13_index: double (nullable = false)\n",
      " |-- c14_index: double (nullable = false)\n",
      " |-- c17_index: double (nullable = false)\n",
      " |-- c18_index: double (nullable = false)\n",
      " |-- c19_index: double (nullable = false)\n",
      " |-- c20_index: double (nullable = false)\n",
      " |-- c22_index: double (nullable = false)\n",
      " |-- c23_index: double (nullable = false)\n",
      " |-- c25_index: double (nullable = false)\n",
      " |-- features: vector (nullable = true)\n",
      " |-- labelIndex: double (nullable = false)\n",
      "\n"
     ]
    }
   ],
   "source": [
    "allData.printSchema()"
   ]
  },
  {
   "cell_type": "code",
   "execution_count": null,
   "metadata": {
    "collapsed": true
   },
   "outputs": [],
   "source": []
  },
  {
   "cell_type": "code",
   "execution_count": 18,
   "metadata": {},
   "outputs": [],
   "source": [
    "from pyspark.ml.classification import RandomForestClassifier as RF\n",
    "from pyspark.ml.feature import IndexToString, VectorIndexer\n",
    "#from pyspark.ml.evaluation import MulticlassClassificationEvaluator\n",
    "\n",
    "rf = RF(labelCol='labelIndex', featuresCol='features', numTrees=200, maxBins=4000)\n",
    "fit = rf.fit(trainingData)\n",
    "transformed = fit.transform(testData)"
   ]
  },
  {
   "cell_type": "code",
   "execution_count": 49,
   "metadata": {},
   "outputs": [
    {
     "name": "stdout",
     "output_type": "stream",
     "text": [
      "The ROC score of model RandomForest is:  0.7052804042593378\n"
     ]
    }
   ],
   "source": [
    "from pyspark.mllib.evaluation import BinaryClassificationMetrics as metric\n",
    "raw_probas = transformed.select(['probability', 'labelIndex'])\n",
    " \n",
    "results = raw_probas.collect()\n",
    "list_results = [(float(i[0][0]), 1.0-float(i[1])) for i in results]\n",
    "score_labels = sc.parallelize(list_results)\n",
    " \n",
    "metrics = metric(score_labels)\n",
    "print(\"The ROC score of model RandomForest is: \", metrics.areaUnderROC)\n"
   ]
  },
  {
   "cell_type": "code",
   "execution_count": 50,
   "metadata": {},
   "outputs": [
    {
     "data": {
      "image/png": "[encoded data removed]",
      "text/plain": [
       "<Figure size 432x288 with 1 Axes>"
      ]
     },
     "metadata": {
      "needs_background": "light"
     },
     "output_type": "display_data"
    }
   ],
   "source": [
    "from matplotlib import pyplot as plt\n",
    "from sklearn.metrics import roc_curve, auc\n",
    " \n",
    "false_positive_r = dict()\n",
    "true_positive_r = dict()\n",
    "roc_auc = dict()\n",
    " \n",
    "y_test = [i[1] for i in list_results]\n",
    "y_score = [i[0] for i in list_results]\n",
    " \n",
    "false_positive_r, true_positive_r, _ = roc_curve(y_test, y_score)\n",
    "roc_auc = auc(false_positive_r, true_positive_r)\n",
    " \n",
    "%matplotlib inline\n",
    "plt.figure()\n",
    "plt.plot(false_positive_r, true_positive_r, label='ROC curve (area = %0.2f)' % roc_auc)\n",
    "plt.plot([0, 1], [0, 1], 'k--')\n",
    "plt.xlim([0.0, 1.0])\n",
    "plt.ylim([0.0, 1.05])\n",
    "plt.xlabel('False Positive Rate')\n",
    "plt.ylabel('True Positive Rate')\n",
    "plt.title('Receiver operating characteristic of modele RF')\n",
    "plt.legend(loc=\"lower right\")\n",
    "plt.show()"
   ]
  },
  {
   "cell_type": "markdown",
   "metadata": {},
   "source": [
    "### RandomForest avec K-fold cross validation"
   ]
  },
  {
   "cell_type": "code",
   "execution_count": 18,
   "metadata": {},
   "outputs": [],
   "source": [
    "#from pyspark.ml import Pipeline\n",
    "#from pyspark.ml.classification import RandomForestClassifier\n",
    "from pyspark.ml.classification import RandomForestClassifier as RF\n",
    "from pyspark.ml.feature import IndexToString, VectorIndexer\n",
    "#from pyspark.ml.evaluation import MulticlassClassificationEvaluator\n",
    "from pyspark.ml.tuning import CrossValidator, ParamGridBuilder\n",
    "from pyspark.ml.evaluation import BinaryClassificationEvaluator\n",
    "\n",
    "#trainingData = ... # DataFrame[label: double, features: vector]\n",
    "numFolds = 4 # Integer\n",
    "\n",
    "rf1 = RF(labelCol='labelIndex', featuresCol='features',numTrees=200,maxBins=4000)\n",
    "evaluator = BinaryClassificationEvaluator(labelCol=\"labelIndex\") # + other params as in Scala\n",
    "paramGrid = ParamGridBuilder().build()\n",
    "pipeline_KFold = Pipeline(stages=[rf1])\n",
    "\n",
    "crossval = CrossValidator(estimator=pipeline_KFold,estimatorParamMaps=paramGrid,evaluator=evaluator,numFolds=numFolds)\n",
    "\n",
    "model = crossval.fit(trainingData)"
   ]
  },
  {
   "cell_type": "code",
   "execution_count": 22,
   "metadata": {},
   "outputs": [
    {
     "name": "stdout",
     "output_type": "stream",
     "text": [
      "The ROC score is (@numTrees=200):  0.7049962771931013\n"
     ]
    }
   ],
   "source": [
    "from pyspark.mllib.evaluation import BinaryClassificationMetrics as metric\n",
    "\n",
    "transformed1 = model.transform(testData)\n",
    "results1 = transformed1.select(['probability', 'labelIndex'])\n",
    " \n",
    "## prepare score-label set\n",
    "results_collect1 = results1.collect()\n",
    "results_list1 = [(float(i[0][0]), 1.0-float(i[1])) for i in results_collect1]\n",
    "scoreAndLabels1 = sc.parallelize(results_list1)\n",
    " \n",
    "metrics1 = metric(scoreAndLabels1)\n",
    "print(\"The ROC score is (@numTrees=200): \", metrics1.areaUnderROC)\n"
   ]
  },
  {
   "cell_type": "code",
   "execution_count": 23,
   "metadata": {},
   "outputs": [
    {
     "name": "stdout",
     "output_type": "stream",
     "text": [
      "Test: Area Under ROC: 0.704996277193085\n"
     ]
    }
   ],
   "source": [
    "from pyspark.ml.evaluation import BinaryClassificationEvaluator\n",
    "\n",
    "evaluator = BinaryClassificationEvaluator(rawPredictionCol=\"rawPrediction\")\n",
    "print(\"Test: Area Under ROC: \" + str(evaluator.evaluate(transformed1, {evaluator.metricName: \"areaUnderROC\"})))"
   ]
  },
  {
   "cell_type": "markdown",
   "metadata": {},
   "source": [
    "# III. Modele Gradient Boost Tree"
   ]
  },
  {
   "cell_type": "code",
   "execution_count": 16,
   "metadata": {},
   "outputs": [],
   "source": [
    "from pyspark.ml.classification import GBTClassifier\n",
    "\n",
    "# Train a GBT model\n",
    "gbt = GBTClassifier(labelCol=\"labelIndex\", featuresCol=\"features\", maxBins=4000, maxIter=50)\n",
    "\n",
    "modelGB = gbt.fit(trainingData)\n"
   ]
  },
  {
   "cell_type": "code",
   "execution_count": 17,
   "metadata": {},
   "outputs": [
    {
     "name": "stdout",
     "output_type": "stream",
     "text": [
      "Test: Area Under ROC of Gradient Boost Tree: 0.6232253494091387\n"
     ]
    }
   ],
   "source": [
    "from pyspark.ml.evaluation import BinaryClassificationEvaluator\n",
    "\n",
    "# Make predictions.\n",
    "predictions = modelGB.transform(testData)\n",
    "\n",
    "# Compute test accuracy\n",
    "evaluator = BinaryClassificationEvaluator(labelCol=\"labelIndex\", rawPredictionCol=\"prediction\")\n",
    "print(\"Test: Area Under ROC of Gradient Boost Tree: \" + str(evaluator.evaluate(predictions, {evaluator.metricName: \"areaUnderROC\"})))"
   ]
  }
 ],
 "metadata": {
  "kernelspec": {
   "display_name": "Python 3",
   "language": "python",
   "name": "python3"
  },
  "language_info": {
   "codemirror_mode": {
    "name": "ipython",
    "version": 3
   },
   "file_extension": ".py",
   "mimetype": "text/x-python",
   "name": "python",
   "nbconvert_exporter": "python",
   "pygments_lexer": "ipython3",
   "version": "3.6.3"
  }
 },
 "nbformat": 4,
 "nbformat_minor": 2
}
